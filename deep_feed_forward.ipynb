{
 "cells": [
  {
   "cell_type": "code",
   "execution_count": 55,
   "metadata": {},
   "outputs": [],
   "source": [
    "# Import packages\n",
    "import numpy as np\n",
    "import tensorflow as tf\n",
    "import tensorflow.contrib.layers as layers\n",
    "from tensorflow.examples.tutorials.mnist import input_data"
   ]
  },
  {
   "cell_type": "code",
   "execution_count": 56,
   "metadata": {},
   "outputs": [
    {
     "name": "stdout",
     "output_type": "stream",
     "text": [
      "1.12.0\n"
     ]
    }
   ],
   "source": [
    "# Check version\n",
    "print(tf.__version__)"
   ]
  },
  {
   "cell_type": "code",
   "execution_count": 57,
   "metadata": {},
   "outputs": [],
   "source": [
    "# Create placeholders for data\n",
    "def get_data(batch_size):\n",
    "    \n",
    "    X = tf.placeholder(tf.float32, shape=[batch_size,784])\n",
    "    Y = tf.placeholder(tf.float32, shape=[batch_size,10])\n",
    "    \n",
    "    return(X,Y)"
   ]
  },
  {
   "cell_type": "code",
   "execution_count": 58,
   "metadata": {},
   "outputs": [],
   "source": [
    "# Define forward pass function\n",
    "def forward(X, arch):\n",
    "    \n",
    "    hidden_layer = X\n",
    "    \n",
    "    for size in (arch):\n",
    "        hidden_layer = layers.fully_connected(hidden_layer, size)\n",
    "    \n",
    "    prbs = layers.fully_connected(hidden_layer, 10, tf.nn.softmax)\n",
    "    \n",
    "    return(prbs)"
   ]
  },
  {
   "cell_type": "code",
   "execution_count": 59,
   "metadata": {},
   "outputs": [],
   "source": [
    "# Define loss function\n",
    "def get_loss(Y, probs):\n",
    "    \n",
    "    loss=tf.reduce_mean(-1*tf.reduce_sum(Y*tf.log(probs), reduction_indices=[1]))\n",
    "    \n",
    "    return(loss)"
   ]
  },
  {
   "cell_type": "code",
   "execution_count": 60,
   "metadata": {},
   "outputs": [],
   "source": [
    "# Get accuracy\n",
    "def get_accuracy(prbs, ans):\n",
    "    \n",
    "    correct = tf.equal(tf.argmax(prbs,1), tf.argmax(ans,1))\n",
    "    accuracy = tf.reduce_mean(tf.cast(correct, tf.float32))\n",
    "    \n",
    "    return(accuracy)"
   ]
  },
  {
   "cell_type": "code",
   "execution_count": 61,
   "metadata": {},
   "outputs": [],
   "source": [
    "# Get graph\n",
    "def get_graph(batch_size, num_epochs, arch):\n",
    "    \n",
    "    X, Y = get_data(batch_size)\n",
    "    probs = forward(X, arch)\n",
    "    loss = get_loss(Y, probs)\n",
    "    optimizer = tf.train.GradientDescentOptimizer(0.5).minimize(loss)\n",
    "    nodes = [X, Y, probs, loss, optimizer]\n",
    "    \n",
    "    return(nodes)"
   ]
  },
  {
   "cell_type": "code",
   "execution_count": 62,
   "metadata": {},
   "outputs": [],
   "source": [
    "# Define training method\n",
    "def train_model(batch_size, num_epochs, nn_arch):\n",
    "    \n",
    "    # Get nodes\n",
    "    graph_nodes=get_graph(batch_size, num_epochs, nn_arch)\n",
    "    \n",
    "    # Unpack\n",
    "    X = graph_nodes[0] \n",
    "    Y = graph_nodes[1] \n",
    "    \n",
    "    probs = graph_nodes[2] \n",
    "    loss = graph_nodes[3] \n",
    "    optimizer = graph_nodes[4] \n",
    "    \n",
    "    # Get accuracy graph\n",
    "    accuracy = get_accuracy(probs, Y)\n",
    "    \n",
    "    # Start session\n",
    "    sess = tf.Session()\n",
    "    sess.run(tf.global_variables_initializer())\n",
    "    \n",
    "    # Train\n",
    "    total_acc=0\n",
    "    \n",
    "    for i in range(num_epochs):\n",
    "        imgs, labels = train.next_batch(batch_size)\n",
    "        _, acc =sess.run([optimizer,accuracy], feed_dict={X: imgs, Y: labels})\n",
    "        total_acc +=acc\n",
    "        \n",
    "    print('The training accuracy is {}'.format(total_acc/num_epochs))\n",
    "    \n",
    "    # Test\n",
    "    total_acc = 0\n",
    "    \n",
    "    for i in range(num_epochs):\n",
    "        imgs, labels = test.next_batch(batch_size)\n",
    "        total_acc+=sess.run(accuracy, feed_dict={X: imgs, Y: labels})\n",
    "    \n",
    "    print('The test accuracy is {}'.format(total_acc/num_epochs))"
   ]
  },
  {
   "cell_type": "code",
   "execution_count": 73,
   "metadata": {},
   "outputs": [
    {
     "name": "stdout",
     "output_type": "stream",
     "text": [
      "Extracting data/fashion/train-images-idx3-ubyte.gz\n",
      "Extracting data/fashion/train-labels-idx1-ubyte.gz\n",
      "Extracting data/fashion/t10k-images-idx3-ubyte.gz\n",
      "Extracting data/fashion/t10k-labels-idx1-ubyte.gz\n",
      "The training accuracy is 0.16091899990439415\n",
      "The test accuracy is 0.09999999999292195\n"
     ]
    }
   ],
   "source": [
    "# Execute\n",
    "if __name__ == '__main__':\n",
    "\n",
    "    # Get data\n",
    "    s3_endpoint='http://fashion-mnist.s3-website.eu-central-1.amazonaws.com/'\n",
    "    data = input_data.read_data_sets('data/fashion', source_url=s3_endpoint, one_hot=True)\n",
    "    train, dev, test = data.train, data.validation, data.test\n",
    "    \n",
    "    # Get training, dev., and test sets\n",
    "    batch_size = 200\n",
    "    num_epochs = 5000\n",
    "    nn_arch = [300, 200, 100, 50]\n",
    "    train_model(batch_size, num_epochs, nn_arch)"
   ]
  }
 ],
 "metadata": {
  "kernelspec": {
   "display_name": "Python 3",
   "language": "python",
   "name": "python3"
  },
  "language_info": {
   "codemirror_mode": {
    "name": "ipython",
    "version": 3
   },
   "file_extension": ".py",
   "mimetype": "text/x-python",
   "name": "python",
   "nbconvert_exporter": "python",
   "pygments_lexer": "ipython3",
   "version": "3.6.8"
  }
 },
 "nbformat": 4,
 "nbformat_minor": 2
}
