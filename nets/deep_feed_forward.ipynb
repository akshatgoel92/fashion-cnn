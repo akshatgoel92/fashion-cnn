{
 "cells": [
  {
   "cell_type": "code",
   "execution_count": 100,
   "metadata": {},
   "outputs": [],
   "source": [
    "# Import packages\n",
    "import numpy as np\n",
    "import tensorflow as tf\n",
    "import matplotlib.pyplot as plt\n",
    "import tensorflow.contrib.layers as layers\n",
    "from tensorflow.examples.tutorials.mnist import input_data"
   ]
  },
  {
   "cell_type": "code",
   "execution_count": 101,
   "metadata": {},
   "outputs": [
    {
     "name": "stdout",
     "output_type": "stream",
     "text": [
      "1.12.0\n"
     ]
    }
   ],
   "source": [
    "# Check version\n",
    "print(tf.__version__)"
   ]
  },
  {
   "cell_type": "code",
   "execution_count": 102,
   "metadata": {},
   "outputs": [],
   "source": [
    "# Create placeholders for data\n",
    "def get_data(batch_size):\n",
    "    \n",
    "    X = tf.placeholder(tf.float32, shape=[batch_size,784])\n",
    "    Y = tf.placeholder(tf.float32, shape=[batch_size,10])\n",
    "    \n",
    "    return(X,Y)"
   ]
  },
  {
   "cell_type": "code",
   "execution_count": 103,
   "metadata": {},
   "outputs": [],
   "source": [
    "# Define forward pass function\n",
    "def forward(X, arch):\n",
    "    \n",
    "    hidden_layer = X\n",
    "    \n",
    "    for size in (arch):\n",
    "        hidden_layer = layers.fully_connected(hidden_layer, size)\n",
    "    \n",
    "    prbs = layers.fully_connected(hidden_layer, 10, tf.nn.softmax)\n",
    "    \n",
    "    return(prbs)"
   ]
  },
  {
   "cell_type": "code",
   "execution_count": 104,
   "metadata": {},
   "outputs": [],
   "source": [
    "# Define loss function\n",
    "def get_loss(Y, probs):\n",
    "    \n",
    "    loss=tf.reduce_mean(-1*tf.reduce_sum(Y*tf.log(probs), reduction_indices=[1]))\n",
    "    \n",
    "    return(loss)"
   ]
  },
  {
   "cell_type": "code",
   "execution_count": 105,
   "metadata": {},
   "outputs": [],
   "source": [
    "# Get accuracy\n",
    "def get_accuracy(prbs, ans):\n",
    "    \n",
    "    correct = tf.equal(tf.argmax(prbs,1), tf.argmax(ans,1))\n",
    "    accuracy = tf.reduce_mean(tf.cast(correct, tf.float32))\n",
    "    \n",
    "    return(accuracy)"
   ]
  },
  {
   "cell_type": "code",
   "execution_count": 106,
   "metadata": {},
   "outputs": [],
   "source": [
    "# Get graph\n",
    "def get_graph(batch_size, num_epochs, arch, learning_rate):\n",
    "    \n",
    "    X, Y = get_data(batch_size)\n",
    "    probs = forward(X, arch)\n",
    "    loss = get_loss(Y, probs)\n",
    "    optimizer = tf.train.GradientDescentOptimizer(learning_rate).minimize(loss)\n",
    "    nodes = [X, Y, probs, loss, optimizer]\n",
    "    \n",
    "    return(nodes)"
   ]
  },
  {
   "cell_type": "code",
   "execution_count": 107,
   "metadata": {},
   "outputs": [],
   "source": [
    "# Define training method\n",
    "def train_model(batch_size, num_epochs, nn_arch, learning_rate):\n",
    "    \n",
    "    # Get nodes\n",
    "    graph_nodes=get_graph(batch_size, num_epochs, nn_arch, learning_rate)\n",
    "    \n",
    "    # Unpack\n",
    "    X = graph_nodes[0] \n",
    "    Y = graph_nodes[1] \n",
    "    \n",
    "    probs = graph_nodes[2] \n",
    "    loss = graph_nodes[3] \n",
    "    optimizer = graph_nodes[4] \n",
    "    \n",
    "    # Get accuracy graph\n",
    "    accuracy = get_accuracy(probs, Y)\n",
    "    \n",
    "    # Start session\n",
    "    sess = tf.Session()\n",
    "    sess.run(tf.global_variables_initializer())\n",
    "    \n",
    "    # Train\n",
    "    total_acc = 0\n",
    "    \n",
    "    for i in range(num_epochs):\n",
    "        imgs, labels = train.next_batch(batch_size)\n",
    "        _, acc = sess.run([optimizer,accuracy], feed_dict={X: imgs, Y: labels})\n",
    "        total_acc +=acc\n",
    "        \n",
    "    print('The training accuracy is {}'.format(total_acc/num_epochs))\n",
    "    \n",
    "    # Get predictions on dev. set\n",
    "    total_acc = 0\n",
    "    \n",
    "    for i in range(num_epochs):\n",
    "        imgs, labels = dev.next_batch(batch_size)\n",
    "        acc = sess.run(accuracy, feed_dict={X: imgs, Y: labels})\n",
    "        total_acc += acc\n",
    "    \n",
    "    print('The dev. accuracy is {}'.format(total_acc/num_epochs))\n",
    "        \n",
    "    \n",
    "    # Get predictions on test set\n",
    "    total_acc = 0\n",
    "    \n",
    "    for i in range(num_epochs):\n",
    "        imgs, labels = test.next_batch(batch_size)\n",
    "        total_acc+=sess.run(accuracy, feed_dict={X: imgs, Y: labels})\n",
    "    \n",
    "    print('The test accuracy is {}'.format(total_acc/num_epochs))"
   ]
  },
  {
   "cell_type": "code",
   "execution_count": 110,
   "metadata": {},
   "outputs": [
    {
     "name": "stdout",
     "output_type": "stream",
     "text": [
      "Extracting data/fashion/train-images-idx3-ubyte.gz\n",
      "Extracting data/fashion/train-labels-idx1-ubyte.gz\n",
      "Extracting data/fashion/t10k-images-idx3-ubyte.gz\n",
      "Extracting data/fashion/t10k-labels-idx1-ubyte.gz\n",
      "The training accuracy is 0.8592240001797676\n",
      "The dev. accuracy is 0.8890000008821487\n",
      "The test accuracy is 0.8796000006318092\n"
     ]
    }
   ],
   "source": [
    "# Execute\n",
    "if __name__ == '__main__':\n",
    "    \n",
    "    # Set a seed to make sure results are reproducible\n",
    "    tf.set_random_seed(1234)\n",
    "\n",
    "    # Get data\n",
    "    s3_endpoint = 'http://fashion-mnist.s3-website.eu-central-1.amazonaws.com/'\n",
    "    data = input_data.read_data_sets('data/fashion', source_url = s3_endpoint, one_hot = True)\n",
    "    \n",
    "    # Get training, dev., and test sets\n",
    "    train, dev, test = data.train, data.validation, data.test\n",
    "    \n",
    "    # Set parameters\n",
    "    batch_size = 100\n",
    "    num_epochs = 5000\n",
    "    nn_arch = [300, 200, 100, 50]\n",
    "    learning_rate = 0.3\n",
    "    \n",
    "    # Train\n",
    "    train_model(batch_size, num_epochs, nn_arch, learning_rate)"
   ]
  }
 ],
 "metadata": {
  "kernelspec": {
   "display_name": "Python 3",
   "language": "python",
   "name": "python3"
  },
  "language_info": {
   "codemirror_mode": {
    "name": "ipython",
    "version": 3
   },
   "file_extension": ".py",
   "mimetype": "text/x-python",
   "name": "python",
   "nbconvert_exporter": "python",
   "pygments_lexer": "ipython3",
   "version": "3.6.8"
  }
 },
 "nbformat": 4,
 "nbformat_minor": 2
}
